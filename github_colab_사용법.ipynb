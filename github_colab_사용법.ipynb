{
  "nbformat": 4,
  "nbformat_minor": 0,
  "metadata": {
    "colab": {
      "name": "github / colab 사용법",
      "provenance": [],
      "collapsed_sections": []
    },
    "kernelspec": {
      "name": "python3",
      "display_name": "Python 3"
    },
    "accelerator": "GPU"
  },
  "cells": [
    {
      "cell_type": "markdown",
      "metadata": {
        "id": "YBuyvcRB3Rcx"
      },
      "source": [
        "## 1. Github\n",
        "\n",
        "> git : 프로그램 등의 소스 코드 관리를 위한 <u>분산 버전 관리 시스템</u>\n",
        "\n",
        "> 주로 개발 협업과정에서 사용. 버전 별 코드 변환 자동탐지\n",
        "\n",
        "**Github -> Git 저장소를 직접 설치하지 않고 Github을 통해 온라인으로 저장소를 관리할 수 있음.**\n",
        "\n",
        "- Github에 저장소 생성할 경우 저장소를 비공개/공개로 설정\n",
        "- 공개된 저장소의 경우 여러사람들끼리 공유 가능\n",
        "- 팀 프로젝트 -> 팀원간 자료 충돌 방지 / 팀원 전체 버전 통일화, 개인 프로젝트 정리\n",
        "- 이메일 회원가입으로 해당 레포의 이슈가 발생하면 메일로 알 수 있음.\n",
        "- 또는 Slack과 연동하여 github 이슈를 알림으로 받을 수 있음.\n",
        "\n",
        "### <Github에서 코드 변화 탐지>\n",
        "\n",
        "![Github 코드 commit시 차이점 예시](https://user-images.githubusercontent.com/56014940/82326084-46255b00-9a17-11ea-9792-cc1fabbb007b.png)\n",
        "\n",
        "\n",
        "### <Slack에서 Github Notification 수신>\n",
        "![Slack, Github 연동 예시](https://user-images.githubusercontent.com/56014940/82788572-a5fe8480-9ea3-11ea-9d40-9e14cd5cef18.png)\n",
        "\n",
        "\n",
        "\n",
        " \n",
        " \n",
        "### Github_tutorial repository 생성\n",
        "\n",
        "![github repository 생성](https://user-images.githubusercontent.com/56014940/82330854-4ecd5f80-9a1e-11ea-8fbb-047eb91b487b.png)\n",
        "\n",
        "![github repository 초기 화면](https://user-images.githubusercontent.com/56014940/82330886-5ab92180-9a1e-11ea-9352-06de1f1d7d3e.png)\n",
        "\n",
        "\n",
        " ## Github repository 다운로드\n",
        "\n",
        "1. 직접 다운로드\n",
        "\n",
        "2. Git bash에서 git clone ~ 명령어로 다운로드\n",
        "\n",
        "```\n",
        "!mkdir git_clone\n",
        "!cd git_clone\n",
        "!git clone https://github.com/Cartucho/mAP.git\n",
        "!ls\n",
        "```\n",
        "\n",
        "## Github 주요 용어 정리\n",
        "\n",
        "- 원격 저장소 : 파일이 원격 저장소 전용 서버에서 관리되며 여러 사람이 함께 공유\n",
        "- 로컬 저장소 : 원격 저장소를 로컬로 다운받아서 관리함. 로컬에서 작업한 내용을 원격 저장소로 push할 수 있음.\n",
        "- branch : 개발하는 과정에서 버전 관리를 하기 위한 도구. 최초에 저장소 생성시 master branch가 자동적으로 생성되며, 필요에 따라 develop branch, hot-fix branch등 만들어서 작업 시행. 이후 작업한 내용에 이상이 없으면 master branch으로 병합.\n",
        "- tag : 각 branch에 부가적인 설명을 부여.\n",
        "- commit : 각 수정사항마다 어떤 내용이 변경되었는지 짧게 기록하는 메세지. 버전 관리 및 작업내용 추적에 용이.\n",
        "- push : 로컬 저장소에서 commit한 내용을 원격 저장소로 보내는 과정\n",
        "- pull : 로컬 저장소의 내용이 오래됐거나 원격 저장소의 내용이 변경되었을 경우, 최신버전으로 갱신해주는 명령어\n",
        "- merge : 분기해서 작업한 내용을 master branch로 병합하는 명령어\n",
        "\n",
        "example1) push 예제\n",
        "```\n",
        "$ mkdir test1\n",
        "$ cd test1\n",
        "$ git init\n",
        "$ git clone https://github.com/testpage/push_example\n",
        "$ git add main.py # add 한 파일은 마지막까지 검토한 파일만 add. 수정하기 까다로움\n",
        "$ git commit -m \"main function\" # commit message는 항상 신중하게. undo하기 까다로움\n",
        "$ git push origin master # origin : 원격 저장소 브랜치, master : 로컬 저장소 브랜치\n",
        "```\n",
        "example2) pull 예제\n",
        "```\n",
        "$ mkdir test2\n",
        "$ cd test2\n",
        "$ git init\n",
        "$ git clone https://github.com/testpage/push_example\n",
        "$ git pull origin(원격저장소 브랜치) master(로컬저장소 브랜치)\n",
        "```\n",
        "\n",
        "#### Git에 대한 참고 사이트 목록\n",
        "* Github 사용하기, remote, clone, push, pull(https://www.zerocho.com/category/Git/post/581042fdcae2d100152ceae6)\n",
        "* 누구나 쉽게 이해할 수 있는 Git(https://backlog.com/git-tutorial/kr/)\n",
        "* 지옥에서 온 git(https://opentutorials.org/course/2708)\n",
        "* git 초보를 위한 풀리퀘스트(pull request) 방법\n",
        "(https://wayhome25.github.io/git/2017/07/08/git-first-pull-request-story/)\n"
      ]
    },
    {
      "cell_type": "markdown",
      "metadata": {
        "id": "3A9IFNGeqvoO"
      },
      "source": [
        "### 예제) Cartucho mAP 레포 다운로드 후 실행\n",
        "\n",
        "- Cartucho mAP : https://github.com/Cartucho/mAP\n",
        "\n",
        "- mAP(Mean Average Precision) : Detection task에서 Class별 Average Precision을 측정한 후,<br> 모든 클래스에 대해서 평균적으로 Average precision을 매긴 수치.\n",
        "\n",
        "\n",
        "- Detection 모델의 성능을 평가하는 지표."
      ]
    },
    {
      "cell_type": "code",
      "metadata": {
        "id": "Q4j3LyXzrWKm",
        "colab": {
          "base_uri": "https://localhost:8080/",
          "height": 161
        },
        "outputId": "e74e3a77-14fc-4cc0-a374-1b7cdce53a4d"
      },
      "source": [
        "!git clone https://github.com/Cartucho/mAP.git\n",
        "!ls"
      ],
      "execution_count": null,
      "outputs": [
        {
          "output_type": "stream",
          "text": [
            "Cloning into 'mAP'...\n",
            "remote: Enumerating objects: 25, done.\u001b[K\n",
            "remote: Counting objects: 100% (25/25), done.\u001b[K\n",
            "remote: Compressing objects: 100% (18/18), done.\u001b[K\n",
            "remote: Total 905 (delta 11), reused 18 (delta 6), pack-reused 880\u001b[K\n",
            "Receiving objects: 100% (905/905), 14.72 MiB | 7.85 MiB/s, done.\n",
            "Resolving deltas: 100% (315/315), done.\n",
            "mAP  sample_data\n"
          ],
          "name": "stdout"
        }
      ]
    },
    {
      "cell_type": "code",
      "metadata": {
        "id": "yBqocGhDsH3I",
        "colab": {
          "base_uri": "https://localhost:8080/",
          "height": 35
        },
        "outputId": "41646784-3f71-4c19-be56-f17c9260d3f2"
      },
      "source": [
        "cd mAP"
      ],
      "execution_count": null,
      "outputs": [
        {
          "output_type": "stream",
          "text": [
            "/content/mAP\n"
          ],
          "name": "stdout"
        }
      ]
    },
    {
      "cell_type": "code",
      "metadata": {
        "id": "bijst4s-sXap",
        "colab": {
          "base_uri": "https://localhost:8080/",
          "height": 35
        },
        "outputId": "a585eb99-4419-4575-8936-aed0e101e2ca"
      },
      "source": [
        "ls"
      ],
      "execution_count": null,
      "outputs": [
        {
          "output_type": "stream",
          "text": [
            "\u001b[0m\u001b[01;34minput\u001b[0m/  LICENSE  main.py  README.md  \u001b[01;34mscripts\u001b[0m/\n"
          ],
          "name": "stdout"
        }
      ]
    },
    {
      "cell_type": "code",
      "metadata": {
        "id": "wuW83DdZsOrt",
        "colab": {
          "base_uri": "https://localhost:8080/",
          "height": 593
        },
        "outputId": "e21cba79-29f1-4b3b-8a4e-b70ffec0d865"
      },
      "source": [
        "!python main.py -na"
      ],
      "execution_count": null,
      "outputs": [
        {
          "output_type": "stream",
          "text": [
            "22.73% = backpack AP \n",
            "85.94% = bed AP \n",
            "17.52% = book AP \n",
            "14.29% = bookcase AP \n",
            "23.48% = bottle AP \n",
            "31.86% = bowl AP \n",
            "7.93% = cabinetry AP \n",
            "53.84% = chair AP \n",
            "4.55% = coffeetable AP \n",
            "19.05% = countertop AP \n",
            "42.50% = cup AP \n",
            "39.66% = diningtable AP \n",
            "0.00% = doll AP \n",
            "20.69% = door AP \n",
            "7.69% = heater AP \n",
            "71.43% = nightstand AP \n",
            "42.86% = person AP \n",
            "17.71% = pictureframe AP \n",
            "13.01% = pillow AP \n",
            "62.31% = pottedplant AP \n",
            "73.21% = remote AP \n",
            "0.00% = shelf AP \n",
            "16.33% = sink AP \n",
            "90.48% = sofa AP \n",
            "1.39% = tap AP \n",
            "0.00% = tincan AP \n",
            "63.25% = tvmonitor AP \n",
            "18.75% = vase AP \n",
            "45.45% = wastecontainer AP \n",
            "23.53% = windowblind AP \n",
            "mAP = 31.05%\n",
            "<Figure size 640x630 with 1 Axes>\n"
          ],
          "name": "stdout"
        }
      ]
    },
    {
      "cell_type": "markdown",
      "metadata": {
        "id": "NzcerspED3zL"
      },
      "source": [
        "## 2. Google colab\n",
        "\n",
        "#### Colaboratory 환경\n",
        "\n",
        "\n",
        "* 각자 가지고 있는 구글이메일로 colab 사용 가능.\n",
        "* GPU가 포함된 하이엔드 PC를 무료로 사용할 수 있는 장점 존재.\n",
        "* 온라인으로 코드를 돌릴 수 있다는 장점 및 여러 사람과 같이 작업 가능.\n",
        "* 12시간안에 작업이 완료되지 못할 경우 실행환경 자동 삭제.\n",
        "\n",
        "* Google colab 컴퓨터 스펙은 다음과 같음\n",
        "\n",
        "| 하드웨어 | 비고 |\n",
        "|---|:---:|\n",
        "| CPU | Intel (R) Xeon(R) CPU @ 2.30GHz (Dual-Core) |\n",
        "| GPU | Nvidia Tesla K80 혹은 Nvidia Tesla P100 |\n",
        "| GPU Memory | 12GB (K80) / 16GB (P100) |\n",
        "| VM 지속시간 | 12시간 |\n",
        "\n",
        "\n",
        "* Colab에서 사용하기 용이한 리눅스 터미널 주요 기능 정리\n",
        "\n",
        "1. cd : 폴더 이용할때 사용. cd .. -> 상위폴더로 이동 cd /path/to/individual/folder -> /path/to/individual/folder 로 디렉토리 \n",
        "cd만 입력하게 될 경우 default값인 홈 디렉토리 경로로 이동.\n",
        "\n",
        "2. ls : 현재 디렉토리에 존재하는 파일 표시\n",
        "\n",
        "3. pwd : 현재 디렉토리 위치 표시\n",
        "\n",
        "4. cp /path/to/exist/file.py /path/to/move/directory -> /path/to/exist/file.py 를 /path/to/move/directory/ 폴더로 복사\n",
        "\n",
        "5. mv /path/to/exist/file.py /path/to/move/directory -> /path/to/exist/file.py 를 /path/to/move/directory/ 폴더로 이동\n",
        "\n",
        "6. rm file.py -> file.py 삭제 (디렉토리 삭제 불가)\n",
        "\n",
        "7. mkdir foldername -> 현재 디렉토리에 foldername 이라는 폴더 생성.\n",
        "\n",
        "ex) test라는 폴더 생성해서 git clone으로 저장소 다운받기\n",
        "\n",
        "```\n",
        "!mkdir test\n",
        "!git clone https://github.com/[account_name]/[repository_name]\n",
        "!cd [repository_name]\n",
        "```\n"
      ]
    },
    {
      "cell_type": "code",
      "metadata": {
        "id": "jBXNElVXuhUg",
        "colab": {
          "base_uri": "https://localhost:8080/",
          "height": 35
        },
        "outputId": "7fdcced1-00ca-49ff-932f-2c5f58f79cff"
      },
      "source": [
        ""
      ],
      "execution_count": null,
      "outputs": [
        {
          "output_type": "stream",
          "text": [
            "/content\n"
          ],
          "name": "stdout"
        }
      ]
    },
    {
      "cell_type": "markdown",
      "metadata": {
        "id": "vhZKBbj1BHV-"
      },
      "source": [
        "#### 실제 코드 돌려보기(Watershed 예제)\n",
        "- watershed : 서로 닿는 객체를 분리하는 데 워터셰드 변환이 자주 적용. <br> 워터셰드 변환은 영상을 밝은 픽셀은 높은 곳에, 어두운 픽셀은 낮은 곳에 있는 곡면으로 처리하여, 영상에서 \"집수 구역(catchment basin)\"과 \"워터셰드 능선(watershed ridge line)\"을 찾는 알고리즘."
      ]
    },
    {
      "cell_type": "code",
      "metadata": {
        "id": "q2H60-rm9CiZ",
        "colab": {
          "base_uri": "https://localhost:8080/",
          "height": 35
        },
        "outputId": "761e0a07-1ff9-4c7b-bf2e-201cc8315323"
      },
      "source": [
        "# Data download\n",
        "import urllib.request\n",
        " \n",
        "urllib.request.urlretrieve('https://img1.daumcdn.net/thumb/R1280x0/?scode=mtistory2&fname=http%3A%2F%2Fcfile2.uf.tistory.com%2Fimage%2F990E8B335A20243D016A6B',\n",
        "                           '/content/test.png')"
      ],
      "execution_count": null,
      "outputs": [
        {
          "output_type": "execute_result",
          "data": {
            "text/plain": [
              "('/content/test.png', <http.client.HTTPMessage at 0x7f7db393eef0>)"
            ]
          },
          "metadata": {
            "tags": []
          },
          "execution_count": 1
        }
      ]
    },
    {
      "cell_type": "code",
      "metadata": {
        "id": "izkc9veU9TQE",
        "colab": {
          "base_uri": "https://localhost:8080/",
          "height": 35
        },
        "outputId": "3e1b6d5f-6de6-43f0-b4e7-5bb64025038c"
      },
      "source": [
        "ls"
      ],
      "execution_count": null,
      "outputs": [
        {
          "output_type": "stream",
          "text": [
            "\u001b[0m\u001b[01;34msample_data\u001b[0m/  test.png\n"
          ],
          "name": "stdout"
        }
      ]
    },
    {
      "cell_type": "code",
      "metadata": {
        "id": "wIlQX_DGAvEe",
        "colab": {
          "base_uri": "https://localhost:8080/",
          "height": 287
        },
        "outputId": "9c683b16-94d3-4b6f-af3e-b319398b331c"
      },
      "source": [
        "# check origin image\n",
        "from matplotlib import pyplot as plt\n",
        "import cv2\n",
        "img = cv2.imread(\"test.png\")\n",
        "plt.imshow(img)"
      ],
      "execution_count": null,
      "outputs": [
        {
          "output_type": "execute_result",
          "data": {
            "text/plain": [
              "<matplotlib.image.AxesImage at 0x7f7da9fc49b0>"
            ]
          },
          "metadata": {
            "tags": []
          },
          "execution_count": 4
        },
        {
          "output_type": "display_data",
          "data": {
            "image/png": "[encoded data removed]",
            "text/plain": [
              "<Figure size 432x288 with 1 Axes>"
            ]
          },
          "metadata": {
            "tags": [],
            "needs_background": "light"
          }
        }
      ]
    },
    {
      "cell_type": "code",
      "metadata": {
        "id": "VB4hb6FHGLZT",
        "colab": {
          "base_uri": "https://localhost:8080/",
          "height": 281
        },
        "outputId": "a09222cb-d29e-4482-bed7-e4ef12e4aa59"
      },
      "source": [
        "# Make watershed algorithm adapt image\n",
        "import cv2\n",
        "import numpy as np\n",
        "from matplotlib import pyplot as plt\n",
        "\n",
        "mode = 'closing'\n",
        "\n",
        "\n",
        "def waterShed(img):\n",
        "    # binaray image로 변환\n",
        "    gray = cv2.cvtColor(img, cv2.COLOR_BGR2GRAY)\n",
        "    ret, thresh = cv2.threshold(gray, 0, 255, cv2.THRESH_BINARY_INV + cv2.THRESH_OTSU)\n",
        "\n",
        "    # Morphology의 opening, closing을 통해서 노이즈나 Hole제거\n",
        "    kernel = np.ones((3, 3), np.uint8)\n",
        "\n",
        "    if mode == 'closing':\n",
        "        closing = cv2.morphologyEx(thresh, cv2.MORPH_CLOSE, kernel, iterations=3)\n",
        "        # dilate를 통해서 확실한 Backgroud\n",
        "        sure_bg = cv2.dilate(closing, kernel, iterations=3)\n",
        "        # distance transform을 적용하면 중심으로 부터 Skeleton Image를 얻을 수 있음.\n",
        "        # 즉, 중심으로 부터 점점 옅어져 가는 영상.\n",
        "        # 그 결과에 thresh를 이용하여 확실한 FG를 파악\n",
        "        dist_transform_close = cv2.distanceTransform(closing, cv2.DIST_L2, 5)\n",
        "        ret, sure_fg = cv2.threshold(dist_transform_close, 0.5 * dist_transform_close.max(), 255, 0)\n",
        "        sure_fg = np.uint8(sure_fg)\n",
        "\n",
        "    else:\n",
        "        opening = cv2.morphologyEx(thresh, cv2.MORPH_OPEN, kernel, iterations=3)\n",
        "        sure_bg = cv2.dilate(opening, kernel, iterations=3)\n",
        "        dist_transform_open = cv2.distanceTransform(opening, cv2.DIST_L2, 5)\n",
        "        ret, sure_fg = cv2.threshold(dist_transform_open, 0.5 * dist_transform_open.max(), 255, 0)\n",
        "        sure_fg = np.uint8(sure_fg)\n",
        "\n",
        "    # Background에서 Foregrand를 제외한 영역을 Unknow영역으로 파악\n",
        "    unknown = cv2.subtract(sure_bg, sure_fg)\n",
        "\n",
        "    # FG에 Labelling작업\n",
        "    ret, markers = cv2.connectedComponents(sure_fg)\n",
        "    markers = markers + 1\n",
        "    # markers[unknown == 0] = 0\n",
        "    markers[unknown == 255] = 0\n",
        "\n",
        "    # watershed를 적용하고 경계 영역에 색지정\n",
        "    markers = cv2.watershed(img, markers)\n",
        "    # img[markers == -1] = [255, 0, 0]\n",
        "    img[markers == 1] = [0,0,0]\n",
        "\n",
        "    plt.imshow(img)\n",
        "    if mode == 'closing':\n",
        "        plt.title('Closing results')\n",
        "    else:\n",
        "        title('Opening results')\n",
        "    plt.show()\n",
        "\n",
        "\n",
        "if __name__ == '__main__':\n",
        "    img = cv2.imread(\"test.png\")\n",
        "    waterShed(img)"
      ],
      "execution_count": null,
      "outputs": [
        {
          "output_type": "display_data",
          "data": {
            "image/png": "[encoded data removed]",
            "text/plain": [
              "<Figure size 432x288 with 1 Axes>"
            ]
          },
          "metadata": {
            "tags": [],
            "needs_background": "light"
          }
        }
      ]
    },
    {
      "cell_type": "markdown",
      "metadata": {
        "id": "DCtw8CTTBvwk"
      },
      "source": [
        "#### 개인 google drive 마운트"
      ]
    },
    {
      "cell_type": "markdown",
      "metadata": {
        "id": "RDHkk27O_7ka"
      },
      "source": [
        "- 좌측에 폴더 아이콘을 통해 colab 환경에 어떤 파일들이 있는지 볼 수 있음.\n",
        "\n",
        "![colab linux 폴더 구조](https://user-images.githubusercontent.com/56014940/82331485-298d2100-9a1f-11ea-94c9-99648039a9fb.png)\n",
        "\n",
        "- 기본적으로 있는 자료형태는 위의 사진과 같으며, 데이터를 추가하고 싶을경우 개인 깃허브에서 다운받거나, 구글 드라이브를 연동시켜 사용 가능\n",
        "\n",
        "- 드라이브 마운트를 누르게 되면 로그인한 계정의 드라이브로 마운트\n",
        "\n",
        "<img width=\"237\" alt=\"스크린샷 2020-05-25 오후 5 52 13\" src=\"https://user-images.githubusercontent.com/56014940/82796656-d8fb4500-9eb0-11ea-8e2a-0c25677d9cfc.png\">\n",
        "\n",
        "<Google Drive 마운트 화면>\n",
        "\n",
        "* /content/drive/My Drive/ 경로로 개인 Drive가 Mount된 모습을 확인할 수 있음.\n",
        "* 이를 통해 지속적으로 코드 모니터링이 안되는 환경에서 실험 결과를 개인 드라이브로 저장할 수 있음.\n"
      ]
    },
    {
      "cell_type": "markdown",
      "metadata": {
        "id": "QjqIIr0nvLP6"
      },
      "source": [
        "### Colab 환경 패키지 리스트\n",
        "\n",
        "* pip list 명령어로 해당 컴퓨터에 python package 리스트를 확인할 수 있음. \n",
        "* colab환경에서 기초적인 패키지는 설치되어 있으며, 필요할 경우 추가로 설치하면 어렵지 않게 사용할 수 있음."
      ]
    },
    {
      "cell_type": "code",
      "metadata": {
        "id": "IN8ZwfT6vKgK",
        "colab": {
          "base_uri": "https://localhost:8080/",
          "height": 413
        },
        "outputId": "849bf3da-053e-4a41-cd3c-1e166ce94374"
      },
      "source": [
        "pip install ipdb"
      ],
      "execution_count": null,
      "outputs": [
        {
          "output_type": "stream",
          "text": [
            "Collecting ipdb\n",
            "  Downloading https://files.pythonhosted.org/packages/2c/bb/a3e1a441719ebd75c6dac8170d3ddba884b7ee8a5c0f9aefa7297386627a/ipdb-0.13.2.tar.gz\n",
            "Requirement already satisfied: setuptools in /usr/local/lib/python3.6/dist-packages (from ipdb) (46.3.0)\n",
            "Requirement already satisfied: ipython>=5.1.0 in /usr/local/lib/python3.6/dist-packages (from ipdb) (5.5.0)\n",
            "Requirement already satisfied: simplegeneric>0.8 in /usr/local/lib/python3.6/dist-packages (from ipython>=5.1.0->ipdb) (0.8.1)\n",
            "Requirement already satisfied: decorator in /usr/local/lib/python3.6/dist-packages (from ipython>=5.1.0->ipdb) (4.4.2)\n",
            "Requirement already satisfied: prompt-toolkit<2.0.0,>=1.0.4 in /usr/local/lib/python3.6/dist-packages (from ipython>=5.1.0->ipdb) (1.0.18)\n",
            "Requirement already satisfied: pexpect; sys_platform != \"win32\" in /usr/local/lib/python3.6/dist-packages (from ipython>=5.1.0->ipdb) (4.8.0)\n",
            "Requirement already satisfied: pygments in /usr/local/lib/python3.6/dist-packages (from ipython>=5.1.0->ipdb) (2.1.3)\n",
            "Requirement already satisfied: traitlets>=4.2 in /usr/local/lib/python3.6/dist-packages (from ipython>=5.1.0->ipdb) (4.3.3)\n",
            "Requirement already satisfied: pickleshare in /usr/local/lib/python3.6/dist-packages (from ipython>=5.1.0->ipdb) (0.7.5)\n",
            "Requirement already satisfied: six>=1.9.0 in /usr/local/lib/python3.6/dist-packages (from prompt-toolkit<2.0.0,>=1.0.4->ipython>=5.1.0->ipdb) (1.12.0)\n",
            "Requirement already satisfied: wcwidth in /usr/local/lib/python3.6/dist-packages (from prompt-toolkit<2.0.0,>=1.0.4->ipython>=5.1.0->ipdb) (0.1.9)\n",
            "Requirement already satisfied: ptyprocess>=0.5 in /usr/local/lib/python3.6/dist-packages (from pexpect; sys_platform != \"win32\"->ipython>=5.1.0->ipdb) (0.6.0)\n",
            "Requirement already satisfied: ipython-genutils in /usr/local/lib/python3.6/dist-packages (from traitlets>=4.2->ipython>=5.1.0->ipdb) (0.2.0)\n",
            "Building wheels for collected packages: ipdb\n",
            "  Building wheel for ipdb (setup.py) ... \u001b[?25l\u001b[?25hdone\n",
            "  Created wheel for ipdb: filename=ipdb-0.13.2-cp36-none-any.whl size=10522 sha256=42b36c965a3ff68745dcef5ff315a311105156d66f4c4123e124a51aa1d6e9e3\n",
            "  Stored in directory: /root/.cache/pip/wheels/60/c2/15/793365e3c9318c46ba914263740d90f1fe67f544b979141ce4\n",
            "Successfully built ipdb\n",
            "Installing collected packages: ipdb\n",
            "Successfully installed ipdb-0.13.2\n"
          ],
          "name": "stdout"
        }
      ]
    },
    {
      "cell_type": "markdown",
      "metadata": {
        "id": "2NHOienzEDWo"
      },
      "source": [
        "## 3. Using Gpu on colab\n",
        "\n",
        "- Colab에서 GPU 및 TPU를 지원함.\n",
        "\n",
        "- 런타임 -> 런타임 유형 변경 -> 하드웨어 가속기 GPU 설정\n",
        "\n",
        "<img width=\"281\" alt=\"스크린샷 2020-05-25 오후 5 13 46\" src=\"https://user-images.githubusercontent.com/56014940/82793015-39878380-9eab-11ea-95a8-8cdae69bcbee.png\">\n",
        "\n",
        "<img width=\"280\" alt=\"스크린샷 2020-05-25 오후 5 13 59\" src=\"https://user-images.githubusercontent.com/56014940/82793020-3be9dd80-9eab-11ea-9792-0ee18e873b92.png\">\n",
        "\n",
        "### - **런타임 유형 변경시 런타임 초기화를 해야하므로 기존의 작업환경에 영향을 받지 않게 주의.**"
      ]
    },
    {
      "cell_type": "markdown",
      "metadata": {
        "id": "sbomSAw-5_4N"
      },
      "source": [
        "* Pytorch로 gpu 환경설정이 잘 됐는지 테스트.\n",
        "\n",
        "> 본 코드는 gpu 테스트를 위해 만들어진 스크립트이며, 런타임 유형이 CPU일 경우 에러를 배출하지만 GPU일 경우 <br>정상적으로 GPU에 대한 정보들이 출력."
      ]
    },
    {
      "cell_type": "code",
      "metadata": {
        "id": "3I87xAZU3IRO"
      },
      "source": [
        "import torch\n",
        " \n",
        "# result_gpu_info = []\n",
        "# #  Returns a bool indicating if CUDA is currently available.\n",
        "# result_gpu_info.append(torch.cuda.is_available())\n",
        "# #  True\n",
        " \n",
        "# #  Returns the index of a currently selected device.\n",
        "# result_gpu_info.append(torch.cuda.current_device())\n",
        "# #  0\n",
        " \n",
        "# #  Returns the number of GPUs available.\n",
        "# result_gpu_info.append(torch.cuda.device_count())\n",
        "# #  1\n",
        " \n",
        "# #  Gets the name of a device.\n",
        "# result_gpu_info.append(torch.cuda.get_device_name(0))\n",
        "# #  'GeForce GTX 1060'\n",
        " \n",
        "# #  Context-manager that changes the selected device.\n",
        "# #  device (torch.device or int) – device index to select. \n",
        "# result_gpu_info.append(torch.cuda.device(0))\n",
        "\n",
        "# result_gpu_info\n",
        "\n",
        "\n",
        "\n",
        "\n",
        "# device = torch.device('cpu') -> cpu 전환\n",
        "model = TheModelClass(*args, **kwargs) \n",
        "model.load_state_dict(torch.load(PATH, map_location=device))\n",
        "\n",
        "\n",
        "# Default CUDA device\n",
        "cuda = torch.device('cuda')\n",
        " \n",
        "# allocates a tensor on default GPU\n",
        "a = torch.tensor([1., 2.], device=cuda)\n",
        " \n",
        "# # transfers a tensor from 'C'PU to 'G'PU\n",
        "# b = torch.tensor([1., 2.]).cuda()\n",
        " \n",
        "# # Same with .cuda()\n",
        "# b2 = torch.tensor([1., 2.]).to(device=cuda)\n",
        "\n",
        "# model = NewModel()\n",
        " \n",
        "# model = model.cuda()"
      ],
      "execution_count": null,
      "outputs": []
    },
    {
      "cell_type": "code",
      "metadata": {
        "id": "FQ9mfQlKykZq"
      },
      "source": [
        "c = torch.tensor([1., 2.])"
      ],
      "execution_count": null,
      "outputs": []
    },
    {
      "cell_type": "code",
      "metadata": {
        "id": "PmhYOFAFyuQa",
        "colab": {
          "base_uri": "https://localhost:8080/",
          "height": 35
        },
        "outputId": "91d92959-509f-49eb-c2ba-0e6b56d2d819"
      },
      "source": [
        "c"
      ],
      "execution_count": null,
      "outputs": [
        {
          "output_type": "execute_result",
          "data": {
            "text/plain": [
              "tensor([1., 2.])"
            ]
          },
          "metadata": {
            "tags": []
          },
          "execution_count": 15
        }
      ]
    },
    {
      "cell_type": "markdown",
      "metadata": {
        "id": "tG17fXoCC2Ga"
      },
      "source": [
        "* 런타임 별로 RAM이 다름.\n",
        "\n",
        "<img width=\"142\" alt=\"스크린샷 2020-05-25 오후 5 57 19\" src=\"https://user-images.githubusercontent.com/56014940/82796886-34c5ce00-9eb1-11ea-9010-b89806c97dd3.png\">\n",
        "- CPU 사용시 RAM, 디스크 <br>\n",
        "\n",
        "<img width=\"127\" alt=\"스크린샷 2020-05-25 오후 5 57 00\" src=\"https://user-images.githubusercontent.com/56014940/82796887-35f6fb00-9eb1-11ea-8148-628572ec7bc8.png\">\n",
        "- GPU 사용시 RAM, 디스크\n",
        "\n",
        "* 이를 통해 유동적으로 환경을 바꿔서 사용할 수 있으며, Colab에서 파일을 읽을때 1,000개 이상일 경우 읽지 못하는 현상이 존재하므로 주의\n",
        "\n",
        "* COCO dataset이나 파일단위가 큰 Dataset은 json 편집 등으로 파일 규모를 축소해서 실험 권장.\n",
        "\n",
        "<img width=\"1602\" alt=\"스크린샷 2020-05-25 오후 6 03 06\" src=\"https://user-images.githubusercontent.com/56014940/82797421-00064680-9eb2-11ea-9962-caa6e96f5087.png\">\n",
        "- 파일이 너무 많은경우 발생하는 에러에 대한 Google 답변\n"
      ]
    }
  ]
}